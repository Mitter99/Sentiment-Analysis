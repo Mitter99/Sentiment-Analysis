{
 "cells": [
  {
   "cell_type": "code",
   "execution_count": 1,
   "metadata": {},
   "outputs": [
    {
     "name": "stderr",
     "output_type": "stream",
     "text": [
      "C:\\Users\\ayonm\\Anaconda3\\lib\\site-packages\\statsmodels\\tools\\_testing.py:19: FutureWarning: pandas.util.testing is deprecated. Use the functions in the public API at pandas.testing instead.\n",
      "  import pandas.util.testing as tm\n"
     ]
    }
   ],
   "source": [
    "import pandas as pd\n",
    "import numpy as np\n",
    "import matplotlib.pyplot as plt\n",
    "import re\n",
    "import seaborn as sns\n",
    "import nltk\n",
    "import pandas.util.testing as tm\n",
    "import math\n",
    "import pickle\n",
    "import joblib\n",
    "\n",
    "from nltk import word_tokenize\n",
    "from nltk.corpus import stopwords\n",
    "from nltk.stem import PorterStemmer\n",
    "from nltk.stem import WordNetLemmatizer"
   ]
  },
  {
   "cell_type": "markdown",
   "metadata": {},
   "source": [
    "## Data Cleaning and Preprocessing"
   ]
  },
  {
   "cell_type": "code",
   "execution_count": 2,
   "metadata": {},
   "outputs": [],
   "source": [
    "#Reading text and storing it in a list\n",
    "train=[]\n",
    "val=[]\n",
    "test=[]\n",
    "with open('train.txt') as tr:\n",
    "    tr_line = tr.readlines()\n",
    "    #print(lines)\n",
    "    train.append(tr_line)\n",
    "\n",
    "with open('val.txt') as v:\n",
    "    val_line = v.readlines()\n",
    "    val.append(val_line)\n",
    "    \n",
    "with open('test.txt') as te:\n",
    "    te_line = te.readlines()\n",
    "    test.append(te_line)"
   ]
  },
  {
   "cell_type": "code",
   "execution_count": 3,
   "metadata": {},
   "outputs": [],
   "source": [
    "#Selecting every line(input data) from the list including the class label\n",
    "def create(file):\n",
    "    data= file[0]\n",
    "    new=[]\n",
    "\n",
    "    for d in data:\n",
    "        g=d.split(';')\n",
    "        #print(g)\n",
    "        new.append(g)\n",
    "    return new\n",
    "\n",
    "train_mod= create(train)\n",
    "cv_mod= create(val)\n",
    "test_mod= create(test)"
   ]
  },
  {
   "cell_type": "code",
   "execution_count": 4,
   "metadata": {},
   "outputs": [
    {
     "name": "stdout",
     "output_type": "stream",
     "text": [
      "['i didnt feel humiliated', 'sadness\\n']\n"
     ]
    }
   ],
   "source": [
    "print(train_mod[0])"
   ]
  },
  {
   "cell_type": "code",
   "execution_count": 5,
   "metadata": {},
   "outputs": [],
   "source": [
    "#storing every data-point to a dataframe\n",
    "df_train= pd.DataFrame(train_mod,columns=['text','mood'])\n",
    "df_val= pd.DataFrame(cv_mod,columns=['text','mood'])\n",
    "df_test= pd.DataFrame(test_mod,columns=['text','mood'])"
   ]
  },
  {
   "cell_type": "code",
   "execution_count": 6,
   "metadata": {},
   "outputs": [
    {
     "data": {
      "text/html": [
       "<div>\n",
       "<style scoped>\n",
       "    .dataframe tbody tr th:only-of-type {\n",
       "        vertical-align: middle;\n",
       "    }\n",
       "\n",
       "    .dataframe tbody tr th {\n",
       "        vertical-align: top;\n",
       "    }\n",
       "\n",
       "    .dataframe thead th {\n",
       "        text-align: right;\n",
       "    }\n",
       "</style>\n",
       "<table border=\"1\" class=\"dataframe\">\n",
       "  <thead>\n",
       "    <tr style=\"text-align: right;\">\n",
       "      <th></th>\n",
       "      <th>text</th>\n",
       "      <th>mood</th>\n",
       "    </tr>\n",
       "  </thead>\n",
       "  <tbody>\n",
       "    <tr>\n",
       "      <th>0</th>\n",
       "      <td>i didnt feel humiliated</td>\n",
       "      <td>sadness\\n</td>\n",
       "    </tr>\n",
       "    <tr>\n",
       "      <th>1</th>\n",
       "      <td>i can go from feeling so hopeless to so damned...</td>\n",
       "      <td>sadness\\n</td>\n",
       "    </tr>\n",
       "    <tr>\n",
       "      <th>2</th>\n",
       "      <td>im grabbing a minute to post i feel greedy wrong</td>\n",
       "      <td>anger\\n</td>\n",
       "    </tr>\n",
       "    <tr>\n",
       "      <th>3</th>\n",
       "      <td>i am ever feeling nostalgic about the fireplac...</td>\n",
       "      <td>love\\n</td>\n",
       "    </tr>\n",
       "    <tr>\n",
       "      <th>4</th>\n",
       "      <td>i am feeling grouchy</td>\n",
       "      <td>anger\\n</td>\n",
       "    </tr>\n",
       "  </tbody>\n",
       "</table>\n",
       "</div>"
      ],
      "text/plain": [
       "                                                text       mood\n",
       "0                            i didnt feel humiliated  sadness\\n\n",
       "1  i can go from feeling so hopeless to so damned...  sadness\\n\n",
       "2   im grabbing a minute to post i feel greedy wrong    anger\\n\n",
       "3  i am ever feeling nostalgic about the fireplac...     love\\n\n",
       "4                               i am feeling grouchy    anger\\n"
      ]
     },
     "execution_count": 6,
     "metadata": {},
     "output_type": "execute_result"
    }
   ],
   "source": [
    "df_train.head()"
   ]
  },
  {
   "cell_type": "code",
   "execution_count": 7,
   "metadata": {},
   "outputs": [
    {
     "data": {
      "text/plain": [
       "joy\\n         5362\n",
       "sadness\\n     4666\n",
       "anger\\n       2159\n",
       "fear\\n        1937\n",
       "love\\n        1304\n",
       "surprise\\n     572\n",
       "Name: mood, dtype: int64"
      ]
     },
     "execution_count": 7,
     "metadata": {},
     "output_type": "execute_result"
    }
   ],
   "source": [
    "df_train['mood'].value_counts()"
   ]
  },
  {
   "cell_type": "code",
   "execution_count": 8,
   "metadata": {},
   "outputs": [
    {
     "data": {
      "image/png": "[encoded data removed]",
      "text/plain": [
       "<Figure size 720x576 with 1 Axes>"
      ]
     },
     "metadata": {
      "needs_background": "light"
     },
     "output_type": "display_data"
    }
   ],
   "source": [
    "#Visualizing the count of class label(mood) in the train dataset\n",
    "plt.figure(figsize=(10,8))\n",
    "sns.countplot(x ='mood',hue='mood', data = df_test)\n",
    "plt.title('Counts of Classes')\n",
    "plt.show()"
   ]
  },
  {
   "cell_type": "code",
   "execution_count": 9,
   "metadata": {},
   "outputs": [
    {
     "name": "stdout",
     "output_type": "stream",
     "text": [
      "i didnt feel humiliated\n"
     ]
    }
   ],
   "source": [
    "sta= df_train['text']\n",
    "print(sta[0])"
   ]
  },
  {
   "cell_type": "code",
   "execution_count": 10,
   "metadata": {},
   "outputs": [],
   "source": [
    "#Adding columns in dataframe for ID,select_text and sentiment for train,validation and test dataset\n",
    "df_train['ID']=np.nan\n",
    "df_train['sentiment']=np.nan\n",
    "df_train['select_text']=np.nan\n",
    "df_train=df_train[['ID','text','select_text','sentiment','mood']]\n",
    "#df_train.head()\n",
    "\n",
    "df_val['ID']=np.nan\n",
    "df_val['sentiment']=np.nan\n",
    "df_val['select_text']=np.nan\n",
    "df_val=df_val[['ID','text','select_text','sentiment','mood']]\n",
    "\n",
    "df_test['ID']=np.nan\n",
    "df_test['sentiment']=np.nan\n",
    "df_test['select_text']=np.nan\n",
    "df_test=df_test[['ID','text','select_text','sentiment','mood']]"
   ]
  },
  {
   "cell_type": "code",
   "execution_count": 11,
   "metadata": {},
   "outputs": [],
   "source": [
    "#Adding unique ID to all datapoints\n",
    "tr_uid=[]\n",
    "for i in range(len(df_train['text'])):\n",
    "    tr_uid.append(i+1)\n",
    "#print(uid)\n",
    "\n",
    "cv_uid=[]\n",
    "for i in range(len(df_val['text'])):\n",
    "    cv_uid.append(i+1)\n",
    "    \n",
    "te_uid=[]\n",
    "for i in range(len(df_test['text'])):\n",
    "    te_uid.append(i+1)"
   ]
  },
  {
   "cell_type": "code",
   "execution_count": 12,
   "metadata": {},
   "outputs": [
    {
     "data": {
      "text/html": [
       "<div>\n",
       "<style scoped>\n",
       "    .dataframe tbody tr th:only-of-type {\n",
       "        vertical-align: middle;\n",
       "    }\n",
       "\n",
       "    .dataframe tbody tr th {\n",
       "        vertical-align: top;\n",
       "    }\n",
       "\n",
       "    .dataframe thead th {\n",
       "        text-align: right;\n",
       "    }\n",
       "</style>\n",
       "<table border=\"1\" class=\"dataframe\">\n",
       "  <thead>\n",
       "    <tr style=\"text-align: right;\">\n",
       "      <th></th>\n",
       "      <th>ID</th>\n",
       "      <th>text</th>\n",
       "      <th>select_text</th>\n",
       "      <th>sentiment</th>\n",
       "      <th>mood</th>\n",
       "    </tr>\n",
       "  </thead>\n",
       "  <tbody>\n",
       "    <tr>\n",
       "      <th>0</th>\n",
       "      <td>1</td>\n",
       "      <td>i didnt feel humiliated</td>\n",
       "      <td>NaN</td>\n",
       "      <td>NaN</td>\n",
       "      <td>sadness\\n</td>\n",
       "    </tr>\n",
       "    <tr>\n",
       "      <th>1</th>\n",
       "      <td>2</td>\n",
       "      <td>i can go from feeling so hopeless to so damned...</td>\n",
       "      <td>NaN</td>\n",
       "      <td>NaN</td>\n",
       "      <td>sadness\\n</td>\n",
       "    </tr>\n",
       "    <tr>\n",
       "      <th>2</th>\n",
       "      <td>3</td>\n",
       "      <td>im grabbing a minute to post i feel greedy wrong</td>\n",
       "      <td>NaN</td>\n",
       "      <td>NaN</td>\n",
       "      <td>anger\\n</td>\n",
       "    </tr>\n",
       "    <tr>\n",
       "      <th>3</th>\n",
       "      <td>4</td>\n",
       "      <td>i am ever feeling nostalgic about the fireplac...</td>\n",
       "      <td>NaN</td>\n",
       "      <td>NaN</td>\n",
       "      <td>love\\n</td>\n",
       "    </tr>\n",
       "    <tr>\n",
       "      <th>4</th>\n",
       "      <td>5</td>\n",
       "      <td>i am feeling grouchy</td>\n",
       "      <td>NaN</td>\n",
       "      <td>NaN</td>\n",
       "      <td>anger\\n</td>\n",
       "    </tr>\n",
       "  </tbody>\n",
       "</table>\n",
       "</div>"
      ],
      "text/plain": [
       "   ID                                               text  select_text  \\\n",
       "0   1                            i didnt feel humiliated          NaN   \n",
       "1   2  i can go from feeling so hopeless to so damned...          NaN   \n",
       "2   3   im grabbing a minute to post i feel greedy wrong          NaN   \n",
       "3   4  i am ever feeling nostalgic about the fireplac...          NaN   \n",
       "4   5                               i am feeling grouchy          NaN   \n",
       "\n",
       "   sentiment       mood  \n",
       "0        NaN  sadness\\n  \n",
       "1        NaN  sadness\\n  \n",
       "2        NaN    anger\\n  \n",
       "3        NaN     love\\n  \n",
       "4        NaN    anger\\n  "
      ]
     },
     "execution_count": 12,
     "metadata": {},
     "output_type": "execute_result"
    }
   ],
   "source": [
    "df_train['ID']=tr_uid\n",
    "df_val['ID']= cv_uid\n",
    "df_test['ID']= te_uid\n",
    "df_train.head()"
   ]
  },
  {
   "cell_type": "markdown",
   "metadata": {},
   "source": [
    "### Stop-Words and Lemmatizer are used for select_text feature as pre-processed data."
   ]
  },
  {
   "cell_type": "code",
   "execution_count": 13,
   "metadata": {},
   "outputs": [
    {
     "name": "stdout",
     "output_type": "stream",
     "text": [
      "{'be', 'how', 'shouldn', 'an', 'further', \"wouldn't\", 'isn', 'who', 'off', 'just', 'until', 'such', 'those', 'up', 'most', \"didn't\", \"won't\", 'other', 'shan', 'no', 'ain', 's', 'ours', \"haven't\", 'there', \"it's\", \"needn't\", 'when', 'why', 'o', 'himself', 'you', 'wouldn', 'its', 'by', 'it', 'doesn', 'wasn', \"weren't\", 'what', 'our', 'on', 'she', \"hadn't\", 'below', 'than', 'with', 've', 'again', 'because', 'that', 'll', 'theirs', 'her', \"should've\", 'herself', 'too', 'i', 'these', 'but', 'to', 'here', 'myself', 'themselves', 'for', 'the', \"mightn't\", 'in', 'haven', 'after', 'from', 'can', 'ourselves', 'doing', 'during', 'not', 'ma', 'of', 'some', \"shan't\", 'him', 'we', \"isn't\", 'all', 'didn', 'yourselves', 'same', 'am', 'whom', 'above', \"that'll\", 'been', 'itself', 'into', 'are', 'should', \"shouldn't\", 'before', 'if', 'then', 'did', 'between', 'being', 'does', 'd', 'only', 'mustn', \"you'd\", 'out', 'own', 'will', 'weren', 'them', 'having', 'over', 'so', 'don', \"couldn't\", 'hadn', 'is', \"wasn't\", 'about', 'any', 'this', 'or', 'has', 'hasn', 'was', 'at', 'which', 'mightn', 'nor', 'down', 'where', \"she's\", \"aren't\", \"you'll\", 'had', 'they', 'yours', 'and', 'few', 'while', 'against', 'more', 'couldn', 'my', \"hasn't\", 'under', \"you've\", 't', 'hers', 'me', 'a', 'were', 'through', 'now', 'do', \"mustn't\", 'his', 'he', 're', 'y', 'aren', 'once', 'your', \"you're\", \"doesn't\", 'm', 'very', 'both', 'yourself', 'needn', 'have', 'each', \"don't\", 'their', 'as', 'won'}\n"
     ]
    }
   ],
   "source": [
    "sw = set(stopwords.words('english'))\n",
    "print(sw)"
   ]
  },
  {
   "cell_type": "code",
   "execution_count": 14,
   "metadata": {},
   "outputs": [],
   "source": [
    "#Removing stop-words and after that lemmatizing the word\n",
    "lm= WordNetLemmatizer()\n",
    "def word_process(sent):\n",
    "    corpus=[]\n",
    "    for s in sent:\n",
    "        word=[]\n",
    "        p=nltk.word_tokenize(s)\n",
    "        for w in p:\n",
    "            v=lm.lemmatize(w)\n",
    "            if v not in sw and len(v)>2:\n",
    "                #print(v)\n",
    "                word.append(v)\n",
    "        corpus.append(word)\n",
    "    return corpus"
   ]
  },
  {
   "cell_type": "code",
   "execution_count": 15,
   "metadata": {},
   "outputs": [],
   "source": [
    "#storing pre-processed text to dataframe\n",
    "tr_corpus= df_train['text']\n",
    "val_corpus= df_val['text']\n",
    "te_corpus= df_test['text']\n",
    "train_pro= word_process(tr_corpus)\n",
    "val_pro= word_process(val_corpus)\n",
    "test_pro= word_process(te_corpus)"
   ]
  },
  {
   "cell_type": "code",
   "execution_count": 16,
   "metadata": {},
   "outputs": [
    {
     "name": "stdout",
     "output_type": "stream",
     "text": [
      "[['didnt', 'feel', 'humiliated'], ['feeling', 'hopeless', 'damned', 'hopeful', 'around', 'someone', 'care', 'awake'], ['grabbing', 'minute', 'post', 'feel', 'greedy', 'wrong'], ['ever', 'feeling', 'nostalgic', 'fireplace', 'know', 'still', 'property'], ['feeling', 'grouchy']]\n",
      "16000\n",
      "[['feeling', 'quite', 'sad', 'sorry', 'ill', 'snap', 'soon'], ['feel', 'like', 'still', 'looking', 'blank', 'canvas', 'blank', 'piece', 'paper'], ['feel', 'like', 'faithful', 'servant'], ['feeling', 'cranky', 'blue'], ['treat', 'feeling', 'festive']]\n",
      "2000\n",
      "[['feeling', 'rather', 'rotten', 'ambitious', 'right'], ['updating', 'blog', 'feel', 'shitty'], ['never', 'make', 'separate', 'ever', 'want', 'feel', 'like', 'ashamed'], ['left', 'bouquet', 'red', 'yellow', 'tulip', 'arm', 'feeling', 'slightly', 'optimistic', 'arrived'], ['feeling', 'little', 'vain', 'one']]\n",
      "2000\n"
     ]
    }
   ],
   "source": [
    "print(train_pro[0:5])\n",
    "print(len(train_pro))\n",
    "print(val_pro[0:5])\n",
    "print(len(val_pro))\n",
    "print(test_pro[0:5])\n",
    "print(len(test_pro))"
   ]
  },
  {
   "cell_type": "code",
   "execution_count": 17,
   "metadata": {},
   "outputs": [],
   "source": [
    "#Removing commas from text for each datapoint\n",
    "def pre_process(data):\n",
    "    text_list=[]\n",
    "    for i in data:\n",
    "        ll=','.join(map(str,i))\n",
    "        h=ll.replace(',',' ')\n",
    "        text_list.append(h)\n",
    "    return text_list"
   ]
  },
  {
   "cell_type": "code",
   "execution_count": 18,
   "metadata": {},
   "outputs": [],
   "source": [
    "pre_train= pre_process(train_pro)\n",
    "pre_val= pre_process(val_pro)\n",
    "pre_test= pre_process(test_pro)"
   ]
  },
  {
   "cell_type": "code",
   "execution_count": 19,
   "metadata": {},
   "outputs": [],
   "source": [
    "df_train['select_text']=pre_train\n",
    "df_val['select_text']=pre_val\n",
    "df_test['select_text']=pre_test"
   ]
  },
  {
   "cell_type": "markdown",
   "metadata": {},
   "source": [
    "### In Sentiment column we are going to add the actual class label with respect to mood value that will be used for Machine Learning Model.\n",
    "### joy, love, surprise- Positive\n",
    "### sadness, fear, anger- Negative"
   ]
  },
  {
   "cell_type": "code",
   "execution_count": 20,
   "metadata": {},
   "outputs": [
    {
     "name": "stderr",
     "output_type": "stream",
     "text": [
      "C:\\Users\\ayonm\\Anaconda3\\lib\\site-packages\\ipykernel_launcher.py:6: SettingWithCopyWarning: \n",
      "A value is trying to be set on a copy of a slice from a DataFrame\n",
      "\n",
      "See the caveats in the documentation: https://pandas.pydata.org/pandas-docs/stable/user_guide/indexing.html#returning-a-view-versus-a-copy\n",
      "  \n",
      "C:\\Users\\ayonm\\Anaconda3\\lib\\site-packages\\pandas\\core\\indexing.py:671: SettingWithCopyWarning: \n",
      "A value is trying to be set on a copy of a slice from a DataFrame\n",
      "\n",
      "See the caveats in the documentation: https://pandas.pydata.org/pandas-docs/stable/user_guide/indexing.html#returning-a-view-versus-a-copy\n",
      "  self._setitem_with_indexer(indexer, value)\n",
      "C:\\Users\\ayonm\\Anaconda3\\lib\\site-packages\\ipykernel_launcher.py:4: SettingWithCopyWarning: \n",
      "A value is trying to be set on a copy of a slice from a DataFrame\n",
      "\n",
      "See the caveats in the documentation: https://pandas.pydata.org/pandas-docs/stable/user_guide/indexing.html#returning-a-view-versus-a-copy\n",
      "  after removing the cwd from sys.path.\n"
     ]
    }
   ],
   "source": [
    "mood= df_train['mood']\n",
    "for i,m in enumerate(mood):\n",
    "    if m == 'love\\n' or m=='joy\\n' or m=='surprise\\n':\n",
    "        df_train['sentiment'][i]= 'positive'\n",
    "    else:\n",
    "        df_train['sentiment'][i]= 'negative'"
   ]
  },
  {
   "cell_type": "code",
   "execution_count": 21,
   "metadata": {},
   "outputs": [
    {
     "name": "stderr",
     "output_type": "stream",
     "text": [
      "C:\\Users\\ayonm\\Anaconda3\\lib\\site-packages\\ipykernel_launcher.py:6: SettingWithCopyWarning: \n",
      "A value is trying to be set on a copy of a slice from a DataFrame\n",
      "\n",
      "See the caveats in the documentation: https://pandas.pydata.org/pandas-docs/stable/user_guide/indexing.html#returning-a-view-versus-a-copy\n",
      "  \n",
      "C:\\Users\\ayonm\\Anaconda3\\lib\\site-packages\\ipykernel_launcher.py:4: SettingWithCopyWarning: \n",
      "A value is trying to be set on a copy of a slice from a DataFrame\n",
      "\n",
      "See the caveats in the documentation: https://pandas.pydata.org/pandas-docs/stable/user_guide/indexing.html#returning-a-view-versus-a-copy\n",
      "  after removing the cwd from sys.path.\n"
     ]
    }
   ],
   "source": [
    "mood= df_val['mood']\n",
    "for i,m in enumerate(mood):\n",
    "    if m == 'love\\n' or m=='joy\\n' or m=='surprise\\n':\n",
    "        df_val['sentiment'][i]= 'positive'\n",
    "    else:\n",
    "        df_val['sentiment'][i]= 'negative'"
   ]
  },
  {
   "cell_type": "code",
   "execution_count": 22,
   "metadata": {},
   "outputs": [
    {
     "name": "stderr",
     "output_type": "stream",
     "text": [
      "C:\\Users\\ayonm\\Anaconda3\\lib\\site-packages\\ipykernel_launcher.py:6: SettingWithCopyWarning: \n",
      "A value is trying to be set on a copy of a slice from a DataFrame\n",
      "\n",
      "See the caveats in the documentation: https://pandas.pydata.org/pandas-docs/stable/user_guide/indexing.html#returning-a-view-versus-a-copy\n",
      "  \n",
      "C:\\Users\\ayonm\\Anaconda3\\lib\\site-packages\\ipykernel_launcher.py:4: SettingWithCopyWarning: \n",
      "A value is trying to be set on a copy of a slice from a DataFrame\n",
      "\n",
      "See the caveats in the documentation: https://pandas.pydata.org/pandas-docs/stable/user_guide/indexing.html#returning-a-view-versus-a-copy\n",
      "  after removing the cwd from sys.path.\n"
     ]
    }
   ],
   "source": [
    "mood= df_test['mood']\n",
    "for i,m in enumerate(mood):\n",
    "    if m == 'love\\n' or m=='joy\\n' or m=='surprise\\n':\n",
    "        df_test['sentiment'][i]= 'positive'\n",
    "    else:\n",
    "        df_test['sentiment'][i]= 'negative'"
   ]
  },
  {
   "cell_type": "code",
   "execution_count": 23,
   "metadata": {},
   "outputs": [
    {
     "data": {
      "text/html": [
       "<div>\n",
       "<style scoped>\n",
       "    .dataframe tbody tr th:only-of-type {\n",
       "        vertical-align: middle;\n",
       "    }\n",
       "\n",
       "    .dataframe tbody tr th {\n",
       "        vertical-align: top;\n",
       "    }\n",
       "\n",
       "    .dataframe thead th {\n",
       "        text-align: right;\n",
       "    }\n",
       "</style>\n",
       "<table border=\"1\" class=\"dataframe\">\n",
       "  <thead>\n",
       "    <tr style=\"text-align: right;\">\n",
       "      <th></th>\n",
       "      <th>ID</th>\n",
       "      <th>text</th>\n",
       "      <th>select_text</th>\n",
       "      <th>sentiment</th>\n",
       "      <th>mood</th>\n",
       "    </tr>\n",
       "  </thead>\n",
       "  <tbody>\n",
       "    <tr>\n",
       "      <th>0</th>\n",
       "      <td>1</td>\n",
       "      <td>i didnt feel humiliated</td>\n",
       "      <td>didnt feel humiliated</td>\n",
       "      <td>negative</td>\n",
       "      <td>sadness\\n</td>\n",
       "    </tr>\n",
       "    <tr>\n",
       "      <th>1</th>\n",
       "      <td>2</td>\n",
       "      <td>i can go from feeling so hopeless to so damned...</td>\n",
       "      <td>feeling hopeless damned hopeful around someone...</td>\n",
       "      <td>negative</td>\n",
       "      <td>sadness\\n</td>\n",
       "    </tr>\n",
       "    <tr>\n",
       "      <th>2</th>\n",
       "      <td>3</td>\n",
       "      <td>im grabbing a minute to post i feel greedy wrong</td>\n",
       "      <td>grabbing minute post feel greedy wrong</td>\n",
       "      <td>negative</td>\n",
       "      <td>anger\\n</td>\n",
       "    </tr>\n",
       "    <tr>\n",
       "      <th>3</th>\n",
       "      <td>4</td>\n",
       "      <td>i am ever feeling nostalgic about the fireplac...</td>\n",
       "      <td>ever feeling nostalgic fireplace know still pr...</td>\n",
       "      <td>positive</td>\n",
       "      <td>love\\n</td>\n",
       "    </tr>\n",
       "    <tr>\n",
       "      <th>4</th>\n",
       "      <td>5</td>\n",
       "      <td>i am feeling grouchy</td>\n",
       "      <td>feeling grouchy</td>\n",
       "      <td>negative</td>\n",
       "      <td>anger\\n</td>\n",
       "    </tr>\n",
       "  </tbody>\n",
       "</table>\n",
       "</div>"
      ],
      "text/plain": [
       "   ID                                               text  \\\n",
       "0   1                            i didnt feel humiliated   \n",
       "1   2  i can go from feeling so hopeless to so damned...   \n",
       "2   3   im grabbing a minute to post i feel greedy wrong   \n",
       "3   4  i am ever feeling nostalgic about the fireplac...   \n",
       "4   5                               i am feeling grouchy   \n",
       "\n",
       "                                         select_text sentiment       mood  \n",
       "0                              didnt feel humiliated  negative  sadness\\n  \n",
       "1  feeling hopeless damned hopeful around someone...  negative  sadness\\n  \n",
       "2             grabbing minute post feel greedy wrong  negative    anger\\n  \n",
       "3  ever feeling nostalgic fireplace know still pr...  positive     love\\n  \n",
       "4                                    feeling grouchy  negative    anger\\n  "
      ]
     },
     "execution_count": 23,
     "metadata": {},
     "output_type": "execute_result"
    }
   ],
   "source": [
    "df_train.to_csv('train.csv')\n",
    "df_train.head()"
   ]
  },
  {
   "cell_type": "code",
   "execution_count": 24,
   "metadata": {},
   "outputs": [
    {
     "data": {
      "text/html": [
       "<div>\n",
       "<style scoped>\n",
       "    .dataframe tbody tr th:only-of-type {\n",
       "        vertical-align: middle;\n",
       "    }\n",
       "\n",
       "    .dataframe tbody tr th {\n",
       "        vertical-align: top;\n",
       "    }\n",
       "\n",
       "    .dataframe thead th {\n",
       "        text-align: right;\n",
       "    }\n",
       "</style>\n",
       "<table border=\"1\" class=\"dataframe\">\n",
       "  <thead>\n",
       "    <tr style=\"text-align: right;\">\n",
       "      <th></th>\n",
       "      <th>ID</th>\n",
       "      <th>text</th>\n",
       "      <th>select_text</th>\n",
       "      <th>sentiment</th>\n",
       "      <th>mood</th>\n",
       "    </tr>\n",
       "  </thead>\n",
       "  <tbody>\n",
       "    <tr>\n",
       "      <th>0</th>\n",
       "      <td>1</td>\n",
       "      <td>im feeling quite sad and sorry for myself but ...</td>\n",
       "      <td>feeling quite sad sorry ill snap soon</td>\n",
       "      <td>negative</td>\n",
       "      <td>sadness\\n</td>\n",
       "    </tr>\n",
       "    <tr>\n",
       "      <th>1</th>\n",
       "      <td>2</td>\n",
       "      <td>i feel like i am still looking at a blank canv...</td>\n",
       "      <td>feel like still looking blank canvas blank pie...</td>\n",
       "      <td>negative</td>\n",
       "      <td>sadness\\n</td>\n",
       "    </tr>\n",
       "    <tr>\n",
       "      <th>2</th>\n",
       "      <td>3</td>\n",
       "      <td>i feel like a faithful servant</td>\n",
       "      <td>feel like faithful servant</td>\n",
       "      <td>positive</td>\n",
       "      <td>love\\n</td>\n",
       "    </tr>\n",
       "    <tr>\n",
       "      <th>3</th>\n",
       "      <td>4</td>\n",
       "      <td>i am just feeling cranky and blue</td>\n",
       "      <td>feeling cranky blue</td>\n",
       "      <td>negative</td>\n",
       "      <td>anger\\n</td>\n",
       "    </tr>\n",
       "    <tr>\n",
       "      <th>4</th>\n",
       "      <td>5</td>\n",
       "      <td>i can have for a treat or if i am feeling festive</td>\n",
       "      <td>treat feeling festive</td>\n",
       "      <td>positive</td>\n",
       "      <td>joy\\n</td>\n",
       "    </tr>\n",
       "  </tbody>\n",
       "</table>\n",
       "</div>"
      ],
      "text/plain": [
       "   ID                                               text  \\\n",
       "0   1  im feeling quite sad and sorry for myself but ...   \n",
       "1   2  i feel like i am still looking at a blank canv...   \n",
       "2   3                     i feel like a faithful servant   \n",
       "3   4                  i am just feeling cranky and blue   \n",
       "4   5  i can have for a treat or if i am feeling festive   \n",
       "\n",
       "                                         select_text sentiment       mood  \n",
       "0              feeling quite sad sorry ill snap soon  negative  sadness\\n  \n",
       "1  feel like still looking blank canvas blank pie...  negative  sadness\\n  \n",
       "2                         feel like faithful servant  positive     love\\n  \n",
       "3                                feeling cranky blue  negative    anger\\n  \n",
       "4                              treat feeling festive  positive      joy\\n  "
      ]
     },
     "execution_count": 24,
     "metadata": {},
     "output_type": "execute_result"
    }
   ],
   "source": [
    "df_val.to_csv('val.csv')\n",
    "df_val.head()"
   ]
  },
  {
   "cell_type": "code",
   "execution_count": 25,
   "metadata": {},
   "outputs": [
    {
     "data": {
      "text/html": [
       "<div>\n",
       "<style scoped>\n",
       "    .dataframe tbody tr th:only-of-type {\n",
       "        vertical-align: middle;\n",
       "    }\n",
       "\n",
       "    .dataframe tbody tr th {\n",
       "        vertical-align: top;\n",
       "    }\n",
       "\n",
       "    .dataframe thead th {\n",
       "        text-align: right;\n",
       "    }\n",
       "</style>\n",
       "<table border=\"1\" class=\"dataframe\">\n",
       "  <thead>\n",
       "    <tr style=\"text-align: right;\">\n",
       "      <th></th>\n",
       "      <th>ID</th>\n",
       "      <th>text</th>\n",
       "      <th>select_text</th>\n",
       "      <th>sentiment</th>\n",
       "      <th>mood</th>\n",
       "    </tr>\n",
       "  </thead>\n",
       "  <tbody>\n",
       "    <tr>\n",
       "      <th>0</th>\n",
       "      <td>1</td>\n",
       "      <td>im feeling rather rotten so im not very ambiti...</td>\n",
       "      <td>feeling rather rotten ambitious right</td>\n",
       "      <td>negative</td>\n",
       "      <td>sadness\\n</td>\n",
       "    </tr>\n",
       "    <tr>\n",
       "      <th>1</th>\n",
       "      <td>2</td>\n",
       "      <td>im updating my blog because i feel shitty</td>\n",
       "      <td>updating blog feel shitty</td>\n",
       "      <td>negative</td>\n",
       "      <td>sadness\\n</td>\n",
       "    </tr>\n",
       "    <tr>\n",
       "      <th>2</th>\n",
       "      <td>3</td>\n",
       "      <td>i never make her separate from me because i do...</td>\n",
       "      <td>never make separate ever want feel like ashamed</td>\n",
       "      <td>negative</td>\n",
       "      <td>sadness\\n</td>\n",
       "    </tr>\n",
       "    <tr>\n",
       "      <th>3</th>\n",
       "      <td>4</td>\n",
       "      <td>i left with my bouquet of red and yellow tulip...</td>\n",
       "      <td>left bouquet red yellow tulip arm feeling slig...</td>\n",
       "      <td>positive</td>\n",
       "      <td>joy\\n</td>\n",
       "    </tr>\n",
       "    <tr>\n",
       "      <th>4</th>\n",
       "      <td>5</td>\n",
       "      <td>i was feeling a little vain when i did this one</td>\n",
       "      <td>feeling little vain one</td>\n",
       "      <td>negative</td>\n",
       "      <td>sadness\\n</td>\n",
       "    </tr>\n",
       "  </tbody>\n",
       "</table>\n",
       "</div>"
      ],
      "text/plain": [
       "   ID                                               text  \\\n",
       "0   1  im feeling rather rotten so im not very ambiti...   \n",
       "1   2          im updating my blog because i feel shitty   \n",
       "2   3  i never make her separate from me because i do...   \n",
       "3   4  i left with my bouquet of red and yellow tulip...   \n",
       "4   5    i was feeling a little vain when i did this one   \n",
       "\n",
       "                                         select_text sentiment       mood  \n",
       "0              feeling rather rotten ambitious right  negative  sadness\\n  \n",
       "1                          updating blog feel shitty  negative  sadness\\n  \n",
       "2    never make separate ever want feel like ashamed  negative  sadness\\n  \n",
       "3  left bouquet red yellow tulip arm feeling slig...  positive      joy\\n  \n",
       "4                            feeling little vain one  negative  sadness\\n  "
      ]
     },
     "execution_count": 25,
     "metadata": {},
     "output_type": "execute_result"
    }
   ],
   "source": [
    "df_test.to_csv('test.csv')\n",
    "df_test.head()"
   ]
  },
  {
   "cell_type": "code",
   "execution_count": 26,
   "metadata": {},
   "outputs": [],
   "source": [
    "train= pd.read_csv('train.csv')\n",
    "val= pd.read_csv('val.csv')\n",
    "test= pd.read_csv('test.csv')"
   ]
  },
  {
   "cell_type": "code",
   "execution_count": 27,
   "metadata": {},
   "outputs": [],
   "source": [
    "X_train= train['select_text']\n",
    "y_train= train['sentiment']\n",
    "X_cv= val['select_text']\n",
    "y_cv= val['sentiment']\n",
    "X_test= test['select_text']\n",
    "y_test= test['sentiment']"
   ]
  },
  {
   "cell_type": "markdown",
   "metadata": {},
   "source": [
    "### Tf-IDF for text processing"
   ]
  },
  {
   "cell_type": "code",
   "execution_count": 28,
   "metadata": {},
   "outputs": [],
   "source": [
    "from sklearn.feature_extraction.text import TfidfVectorizer\n",
    "from sklearn import preprocessing\n",
    "# Applying Tf-IDF in datapoints\n",
    "tf_idf= TfidfVectorizer()\n",
    "tf_idf.fit(X_train.values)\n",
    "X_train_tf= tf_idf.transform(X_train.values)\n",
    "X_val_tf= tf_idf.transform(X_cv.values)\n",
    "X_test_tf= tf_idf.transform(X_test.values)\n",
    "\n",
    "#Applying Encoder(label-encoder) in class label(output)\n",
    "lc = preprocessing.LabelEncoder()\n",
    "y_train_enc= lc.fit_transform(y_train)\n",
    "y_cv_enc= lc.fit_transform(y_cv)\n",
    "y_test_enc= lc.fit_transform(y_test)"
   ]
  },
  {
   "cell_type": "markdown",
   "metadata": {},
   "source": [
    "### Model- Naive Baye's "
   ]
  },
  {
   "cell_type": "code",
   "execution_count": 29,
   "metadata": {},
   "outputs": [
    {
     "data": {
      "text/plain": [
       "GridSearchCV(cv=3, error_score='raise-deprecating',\n",
       "             estimator=MultinomialNB(alpha=1.0, class_prior=[0.5, 0.5],\n",
       "                                     fit_prior=True),\n",
       "             iid='warn', n_jobs=None,\n",
       "             param_grid={'alpha': [1e-05, 0.0005, 0.0001, 0.005, 0.001, 0.05,\n",
       "                                   0.01, 0.1, 0.5, 1, 5, 10, 50, 100]},\n",
       "             pre_dispatch='2*n_jobs', refit=True, return_train_score=True,\n",
       "             scoring='roc_auc', verbose=0)"
      ]
     },
     "execution_count": 29,
     "metadata": {},
     "output_type": "execute_result"
    }
   ],
   "source": [
    "from sklearn.naive_bayes import MultinomialNB\n",
    "from sklearn.model_selection import GridSearchCV\n",
    "# Finding the best Hyper-parameter\n",
    "parameter = {'alpha':[0.00001,0.0005, 0.0001,0.005,0.001,0.05,0.01,0.1,0.5,1,5,10,50,100]}\n",
    "nb = MultinomialNB(class_prior=[0.5,0.5])\n",
    "clf = GridSearchCV(nb, parameter, cv=3,scoring='roc_auc',return_train_score=True)\n",
    "clf.fit(X_train_tf,y_train_enc)"
   ]
  },
  {
   "cell_type": "code",
   "execution_count": 30,
   "metadata": {},
   "outputs": [
    {
     "name": "stdout",
     "output_type": "stream",
     "text": [
      "MultinomialNB(alpha=1, class_prior=[0.5, 0.5], fit_prior=True)\n",
      "Best Hyper-parameter: {'alpha': 1}\n"
     ]
    }
   ],
   "source": [
    "print(clf.best_estimator_)\n",
    "best_par=clf.best_params_\n",
    "print('Best Hyper-parameter:',clf.best_params_)"
   ]
  },
  {
   "cell_type": "code",
   "execution_count": 31,
   "metadata": {},
   "outputs": [],
   "source": [
    "def batch_predict(clf, data):\n",
    "    # roc_auc_score(y_true, y_score) the 2nd parameter should be probability estimates of the positive class\n",
    "    # not the predicted outputs\n",
    "\n",
    "    y_data_pred = []\n",
    "    tr_loop = data.shape[0] - data.shape[0]%1000\n",
    "\n",
    "    for i in range(0, tr_loop, 1000):\n",
    "        y_data_pred.extend(clf.predict_proba(data[i:i+1000])[:,1])\n",
    "\n",
    "    if data.shape[0]%1000 !=0:\n",
    "        y_data_pred.extend(clf.predict_proba(data[tr_loop:])[:,1])\n",
    "    \n",
    "    return y_data_pred"
   ]
  },
  {
   "cell_type": "code",
   "execution_count": 32,
   "metadata": {},
   "outputs": [],
   "source": [
    "def find_best_threshold(threshould, fpr, tpr):\n",
    "    t = threshould[np.argmax(tpr*(1-fpr))]\n",
    "    # (tpr*(1-fpr)) will be maximum if your fpr is very low and tpr is very high\n",
    "    print(\"the maximum value of tpr*(1-fpr)\", max(tpr*(1-fpr)), \"for threshold\", np.round(t,3))\n",
    "    return t\n",
    "\n",
    "def predict_with_best_t(proba, threshould):\n",
    "    predictions = []\n",
    "    for i in proba:\n",
    "        if i>=threshould:\n",
    "            predictions.append(1)\n",
    "        else:\n",
    "            predictions.append(0)\n",
    "    return predictions"
   ]
  },
  {
   "cell_type": "code",
   "execution_count": 33,
   "metadata": {},
   "outputs": [
    {
     "data": {
      "image/png": "[encoded data removed]",
      "text/plain": [
       "<Figure size 432x288 with 1 Axes>"
      ]
     },
     "metadata": {
      "needs_background": "light"
     },
     "output_type": "display_data"
    }
   ],
   "source": [
    "from sklearn.metrics import roc_curve, auc\n",
    "#Training model with best hyper-parameter\n",
    "tuned_parameters = [{'alpha': [1]}]\n",
    "model_best = GridSearchCV(nb, tuned_parameters, scoring = 'roc_auc', cv=3)\n",
    "model_best.fit(X_train_tf, y_train_enc)\n",
    "#Saving model to csv file\n",
    "filename = 'submission.csv'\n",
    "joblib.dump(model_best, open(filename, mode='wb'))\n",
    "\n",
    "y_train_pred = batch_predict(model_best, X_val_tf)    \n",
    "y_test_pred = batch_predict(model_best, X_test_tf)\n",
    "\n",
    "train_fpr, train_tpr, tr_thresholds = roc_curve(y_cv_enc, y_train_pred)\n",
    "test_fpr, test_tpr, te_thresholds = roc_curve(y_test_enc, y_test_pred)\n",
    "\n",
    "plt.plot(train_fpr, train_tpr, label=\"train AUC =\"+str(auc(train_fpr, train_tpr)))\n",
    "plt.plot(test_fpr, test_tpr, label=\"test AUC =\"+str(auc(test_fpr, test_tpr)))\n",
    "plt.legend()\n",
    "plt.xlabel(\"False Positive Rate(FPR)\")\n",
    "plt.ylabel(\"True Positive Rate(TPR)\")\n",
    "plt.title(\"ERROR PLOTS\")\n",
    "plt.grid(color='black', linestyle='-', linewidth=0.3)\n",
    "plt.show()"
   ]
  },
  {
   "cell_type": "code",
   "execution_count": 34,
   "metadata": {},
   "outputs": [
    {
     "name": "stdout",
     "output_type": "stream",
     "text": [
      "0.9879518921095009\n"
     ]
    }
   ],
   "source": [
    "# Test AUC score\n",
    "test_auc= auc(test_fpr, test_tpr)\n",
    "print(test_auc)"
   ]
  },
  {
   "cell_type": "code",
   "execution_count": 35,
   "metadata": {},
   "outputs": [
    {
     "name": "stdout",
     "output_type": "stream",
     "text": [
      "0.9879518921095009\n"
     ]
    }
   ],
   "source": [
    "loaded_model = joblib.load(filename)\n",
    "result = loaded_model.score(X_test_tf, y_test_enc)\n",
    "print(result)"
   ]
  },
  {
   "cell_type": "markdown",
   "metadata": {},
   "source": [
    "### Confusion matrix for Naive Bayes"
   ]
  },
  {
   "cell_type": "code",
   "execution_count": 36,
   "metadata": {},
   "outputs": [
    {
     "name": "stdout",
     "output_type": "stream",
     "text": [
      "the maximum value of tpr*(1-fpr) 0.8930305588350451 for threshold 0.482\n",
      "Train confusion matrix\n",
      "[[992  45]\n",
      " [ 64 899]]\n",
      "Test confusion matrix\n",
      "[[1024   56]\n",
      " [  58  862]]\n"
     ]
    },
    {
     "data": {
      "text/plain": [
       "<matplotlib.axes._subplots.AxesSubplot at 0x1dc769170c8>"
      ]
     },
     "execution_count": 36,
     "metadata": {},
     "output_type": "execute_result"
    },
    {
     "data": {
      "image/png": "[encoded data removed]",
      "text/plain": [
       "<Figure size 432x288 with 2 Axes>"
      ]
     },
     "metadata": {},
     "output_type": "display_data"
    }
   ],
   "source": [
    "from sklearn.metrics import confusion_matrix\n",
    "best_th = find_best_threshold(tr_thresholds, train_fpr, train_tpr)\n",
    "print(\"Train confusion matrix\")\n",
    "print(confusion_matrix(y_cv_enc, predict_with_best_t(y_train_pred, best_th)))\n",
    "print(\"Test confusion matrix\")\n",
    "print(confusion_matrix(y_test_enc, predict_with_best_t(y_test_pred, best_th)))\n",
    "conf_train=(confusion_matrix(y_cv_enc, predict_with_best_t(y_train_pred, best_th)))\n",
    "conf_test=(confusion_matrix(y_test_enc, predict_with_best_t(y_test_pred, best_th)))\n",
    "\n",
    "sns.set(font_scale=1.1)#for label size\n",
    "sns.heatmap(conf_train, annot=True,annot_kws={\"size\": 20}, fmt='',xticklabels=['PREDICTED : NO', 'PREDICTED : YES'], yticklabels=['ACTUAL : NO', 'ACTUAL : YES'])"
   ]
  },
  {
   "cell_type": "code",
   "execution_count": 37,
   "metadata": {},
   "outputs": [
    {
     "data": {
      "text/plain": [
       "<matplotlib.axes._subplots.AxesSubplot at 0x1dc76b13b88>"
      ]
     },
     "execution_count": 37,
     "metadata": {},
     "output_type": "execute_result"
    },
    {
     "data": {
      "image/png": "[encoded data removed]",
      "text/plain": [
       "<Figure size 432x288 with 2 Axes>"
      ]
     },
     "metadata": {},
     "output_type": "display_data"
    }
   ],
   "source": [
    "sns.set(font_scale=1.1)#for label size\n",
    "sns.heatmap(conf_test, annot=True,annot_kws={\"size\": 20}, fmt='',xticklabels=['PREDICTED : NO', 'PREDICTED : YES'], yticklabels=['ACTUAL : NO', 'ACTUAL : YES'])"
   ]
  },
  {
   "cell_type": "markdown",
   "metadata": {},
   "source": [
    "### Naive Baye's Performance metrics:\n",
    "#### Test AUC= 0.988\n",
    "#### Precision =TP/(TP+FP) = 862/(862+56)= 0.939\n",
    "#### Recall= TP/(TP+FN)= 862/(862+58)=  0.937"
   ]
  },
  {
   "cell_type": "code",
   "execution_count": 38,
   "metadata": {},
   "outputs": [
    {
     "data": {
      "text/plain": [
       "RandomizedSearchCV(cv=3, error_score='raise-deprecating',\n",
       "                   estimator=RandomForestClassifier(bootstrap=True,\n",
       "                                                    class_weight=None,\n",
       "                                                    criterion='gini',\n",
       "                                                    max_depth=None,\n",
       "                                                    max_features='auto',\n",
       "                                                    max_leaf_nodes=None,\n",
       "                                                    min_impurity_decrease=0.0,\n",
       "                                                    min_impurity_split=None,\n",
       "                                                    min_samples_leaf=1,\n",
       "                                                    min_samples_split=2,\n",
       "                                                    min_weight_fraction_leaf=0.0,\n",
       "                                                    n_estimators='warn',\n",
       "                                                    n_jobs=-1, oob_scor...\n",
       "                                        'min_samples_leaf': <scipy.stats._distn_infrastructure.rv_frozen object at 0x000001DC76CDBEC8>,\n",
       "                                        'min_samples_split': <scipy.stats._distn_infrastructure.rv_frozen object at 0x000001DC76CDBE48>,\n",
       "                                        'n_estimators': <scipy.stats._distn_infrastructure.rv_frozen object at 0x000001DC7062CE08>},\n",
       "                   pre_dispatch='2*n_jobs', random_state=25, refit=True,\n",
       "                   return_train_score=False, scoring='roc_auc', verbose=0)"
      ]
     },
     "execution_count": 38,
     "metadata": {},
     "output_type": "execute_result"
    }
   ],
   "source": [
    "from sklearn.metrics import f1_score\n",
    "from sklearn.ensemble import RandomForestClassifier\n",
    "from sklearn.model_selection import RandomizedSearchCV\n",
    "from scipy.stats import randint as sp_randint\n",
    "from scipy.stats import uniform\n",
    "\n",
    "param_dist = {\"n_estimators\":sp_randint(105,125),\n",
    "              \"max_depth\": sp_randint(10,15),\n",
    "              \"min_samples_split\": sp_randint(110,190),\n",
    "              \"min_samples_leaf\": sp_randint(25,65)}\n",
    "\n",
    "clf = RandomForestClassifier(random_state=25,n_jobs=-1)\n",
    "\n",
    "rf = RandomizedSearchCV(clf, param_distributions=param_dist,\n",
    "                                   n_iter=5,cv=3,scoring='roc_auc',random_state=25)\n",
    "\n",
    "rf.fit(X_train_tf,y_train_enc)"
   ]
  },
  {
   "cell_type": "code",
   "execution_count": 39,
   "metadata": {},
   "outputs": [
    {
     "name": "stdout",
     "output_type": "stream",
     "text": [
      "RandomForestClassifier(bootstrap=True, class_weight=None, criterion='gini',\n",
      "                       max_depth=14, max_features='auto', max_leaf_nodes=None,\n",
      "                       min_impurity_decrease=0.0, min_impurity_split=None,\n",
      "                       min_samples_leaf=28, min_samples_split=111,\n",
      "                       min_weight_fraction_leaf=0.0, n_estimators=121,\n",
      "                       n_jobs=-1, oob_score=False, random_state=25, verbose=0,\n",
      "                       warm_start=False)\n",
      "Best Hyper-parameter: {'max_depth': 14, 'min_samples_leaf': 28, 'min_samples_split': 111, 'n_estimators': 121}\n"
     ]
    }
   ],
   "source": [
    "print(rf.best_estimator_)\n",
    "best_par_rf=rf.best_params_\n",
    "print('Best Hyper-parameter:',rf.best_params_)"
   ]
  },
  {
   "cell_type": "code",
   "execution_count": 40,
   "metadata": {},
   "outputs": [],
   "source": [
    "rf_clf = RandomForestClassifier(bootstrap=True, class_weight=None, criterion='gini',\n",
    "                       max_depth=14, max_features='auto', max_leaf_nodes=None,\n",
    "                       min_impurity_decrease=0.0, min_impurity_split=None,\n",
    "                       min_samples_leaf=28, min_samples_split=111,\n",
    "                       min_weight_fraction_leaf=0.0, n_estimators=121,\n",
    "                       n_jobs=-1, oob_score=False, random_state=25, verbose=0,\n",
    "                       warm_start=False)\n",
    "\n"
   ]
  },
  {
   "cell_type": "code",
   "execution_count": 41,
   "metadata": {},
   "outputs": [
    {
     "data": {
      "image/png": "[encoded data removed]",
      "text/plain": [
       "<Figure size 432x288 with 1 Axes>"
      ]
     },
     "metadata": {},
     "output_type": "display_data"
    }
   ],
   "source": [
    "rf_clf.fit(X_train_tf,y_train_enc)\n",
    "\n",
    "y_train_predrf = batch_predict(rf_clf, X_val_tf)    \n",
    "y_test_predrf = batch_predict(rf_clf, X_test_tf)\n",
    "\n",
    "train_fprrf, train_tprrf, tr_thresholdsrf = roc_curve(y_cv_enc, y_train_predrf)\n",
    "test_fprrf, test_tprrf, te_thresholdsrf = roc_curve(y_test_enc, y_test_predrf)\n",
    "\n",
    "plt.plot(train_fprrf, train_tprrf, label=\"train AUC =\"+str(auc(train_fprrf, train_tprrf)))\n",
    "plt.plot(test_fprrf, test_tprrf, label=\"test AUC =\"+str(auc(test_fprrf, test_tprrf)))\n",
    "plt.legend()\n",
    "plt.xlabel(\"False Positive Rate(FPR)\")\n",
    "plt.ylabel(\"True Positive Rate(TPR)\")\n",
    "plt.title(\"ERROR PLOTS\")\n",
    "plt.grid(color='black', linestyle='-', linewidth=0.3)\n",
    "plt.show()"
   ]
  },
  {
   "cell_type": "code",
   "execution_count": 42,
   "metadata": {},
   "outputs": [
    {
     "name": "stdout",
     "output_type": "stream",
     "text": [
      "0.9495481078904991\n"
     ]
    }
   ],
   "source": [
    "test_aucrf= auc(test_fprrf, test_tprrf)\n",
    "print(test_aucrf)"
   ]
  },
  {
   "cell_type": "code",
   "execution_count": 43,
   "metadata": {},
   "outputs": [
    {
     "name": "stdout",
     "output_type": "stream",
     "text": [
      "the maximum value of tpr*(1-fpr) 0.7663311072858743 for threshold 0.449\n",
      "Train confusion matrix\n",
      "[[959  78]\n",
      " [165 798]]\n",
      "Test confusion matrix\n",
      "[[998  82]\n",
      " [145 775]]\n"
     ]
    },
    {
     "data": {
      "text/plain": [
       "<matplotlib.axes._subplots.AxesSubplot at 0x1dc76dec408>"
      ]
     },
     "execution_count": 43,
     "metadata": {},
     "output_type": "execute_result"
    },
    {
     "data": {
      "image/png": "[encoded data removed]",
      "text/plain": [
       "<Figure size 432x288 with 2 Axes>"
      ]
     },
     "metadata": {},
     "output_type": "display_data"
    }
   ],
   "source": [
    "from sklearn.metrics import confusion_matrix\n",
    "best_rf = find_best_threshold(tr_thresholdsrf, train_fprrf, train_tprrf)\n",
    "print(\"Train confusion matrix\")\n",
    "print(confusion_matrix(y_cv_enc, predict_with_best_t(y_train_predrf, best_rf)))\n",
    "print(\"Test confusion matrix\")\n",
    "print(confusion_matrix(y_test_enc, predict_with_best_t(y_test_predrf, best_rf)))\n",
    "conf_trainrf=(confusion_matrix(y_cv_enc, predict_with_best_t(y_train_predrf, best_rf)))\n",
    "conf_testrf=(confusion_matrix(y_test_enc, predict_with_best_t(y_test_predrf, best_rf)))\n",
    "\n",
    "sns.set(font_scale=1.1)#for label size\n",
    "sns.heatmap(conf_trainrf, annot=True,annot_kws={\"size\": 20}, fmt='',xticklabels=['PREDICTED : NO', 'PREDICTED : YES'], yticklabels=['ACTUAL : NO', 'ACTUAL : YES'])"
   ]
  },
  {
   "cell_type": "code",
   "execution_count": 44,
   "metadata": {},
   "outputs": [
    {
     "data": {
      "text/plain": [
       "<matplotlib.axes._subplots.AxesSubplot at 0x1dc76e7d7c8>"
      ]
     },
     "execution_count": 44,
     "metadata": {},
     "output_type": "execute_result"
    },
    {
     "data": {
      "image/png": "[encoded data removed]",
      "text/plain": [
       "<Figure size 432x288 with 2 Axes>"
      ]
     },
     "metadata": {},
     "output_type": "display_data"
    }
   ],
   "source": [
    "sns.set(font_scale=1.1)#for label size\n",
    "sns.heatmap(conf_testrf, annot=True,annot_kws={\"size\": 20}, fmt='',xticklabels=['PREDICTED : NO', 'PREDICTED : YES'], yticklabels=['ACTUAL : NO', 'ACTUAL : YES'])"
   ]
  },
  {
   "cell_type": "markdown",
   "metadata": {},
   "source": [
    "### Random Forest Perfomance metrics\n",
    "#### Test AUC score- 0.949\n",
    "#### Precision- TP/(TP+FP)= 818/(818+144)= 0.85\n",
    "#### Recall- TP/(TP+FN)= 818/(818+102)= 0.889"
   ]
  },
  {
   "cell_type": "code",
   "execution_count": 45,
   "metadata": {},
   "outputs": [
    {
     "name": "stdout",
     "output_type": "stream",
     "text": [
      "+----------------+------------------------------------------------------------------------------------------+--------------------+\n",
      "|     Model      |                                     Hyper-parameter                                      |        AUC         |\n",
      "+----------------+------------------------------------------------------------------------------------------+--------------------+\n",
      "| Multinomial NB |                                       {'alpha': 1}                                       | 0.9879518921095009 |\n",
      "| Random Forest  | {'max_depth': 14, 'min_samples_leaf': 28, 'min_samples_split': 111, 'n_estimators': 121} | 0.9495481078904991 |\n",
      "+----------------+------------------------------------------------------------------------------------------+--------------------+\n"
     ]
    }
   ],
   "source": [
    "from prettytable import PrettyTable\n",
    "p= PrettyTable()\n",
    "p.field_names=['Model','Hyper-parameter','AUC']\n",
    "p.add_row(['Multinomial NB',best_par,test_auc])\n",
    "p.add_row(['Random Forest',best_par_rf,test_aucrf])\n",
    "print(p)"
   ]
  }
 ],
 "metadata": {
  "kernelspec": {
   "display_name": "Python 3",
   "language": "python",
   "name": "python3"
  },
  "language_info": {
   "codemirror_mode": {
    "name": "ipython",
    "version": 3
   },
   "file_extension": ".py",
   "mimetype": "text/x-python",
   "name": "python",
   "nbconvert_exporter": "python",
   "pygments_lexer": "ipython3",
   "version": "3.7.4"
  }
 },
 "nbformat": 4,
 "nbformat_minor": 2
}
